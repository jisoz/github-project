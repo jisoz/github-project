{
 "cells": [
  {
   "cell_type": "code",
   "execution_count": 3,
   "metadata": {},
   "outputs": [
    {
     "name": "stdout",
     "output_type": "stream",
     "text": [
      "_ _ _ _ _ _ _ _ _\n",
      "Sorry, that letter is not in the word.\n",
      "_ _ _ _ _ _ _ _ _\n",
      "Good guess!\n",
      "_ l _ _ _ _ _ _ _\n",
      "Good guess!\n",
      "a l _ _ _ _ _ _ _\n",
      "Good guess!\n",
      "a l g _ _ _ _ _ _\n",
      "Good guess!\n",
      "a l g _ _ _ _ _ _\n",
      "Good guess!\n",
      "a l g o _ _ _ _ _\n",
      "Good guess!\n",
      "a l g o r _ _ _ _\n",
      "Good guess!\n",
      "a l g o r _ _ _ _\n",
      "Good guess!\n",
      "a l g o r i _ _ _\n",
      "Good guess!\n",
      "a l g o r i t _ _\n",
      "Good guess!\n",
      "a l g o r i t h _\n",
      "Good guess!\n",
      "Congratulations, you guessed the word!\n"
     ]
    }
   ],
   "source": [
    "import random\n",
    "\n",
    "words = ['python', 'programming', 'code', 'computer', 'algorithm', 'variable']\n",
    "\n",
    "\n",
    "word = random.choice(words)\n",
    "\n",
    "\n",
    "correct_guesses = ['_'] * len(word)\n",
    "\n",
    "\n",
    "attempts = 6\n",
    "\n",
    "\n",
    "while attempts > 0:\n",
    "    \n",
    "  \n",
    "    print(' '.join(correct_guesses))\n",
    "\n",
    "    \n",
    "    guess = input('Guess a letter: ')\n",
    "\n",
    "    if guess in word:\n",
    "        \n",
    "        for i in range(len(word)):\n",
    "            if word[i] == guess:\n",
    "                correct_guesses[i] = guess\n",
    "\n",
    "        print('Good guess!')\n",
    "    else:\n",
    "        print('Sorry, that letter is not in the word.')\n",
    "        attempts -= 1\n",
    "\n",
    "    \n",
    "    if '_' not in correct_guesses:\n",
    "        print('Congratulations, you guessed the word!')\n",
    "        break\n",
    "\n",
    "\n",
    "else:\n",
    "    print('Sorry, you have run out of attempts. The word was:', word)"
   ]
  },
  {
   "cell_type": "code",
   "execution_count": null,
   "metadata": {},
   "outputs": [],
   "source": []
  },
  {
   "cell_type": "code",
   "execution_count": null,
   "metadata": {},
   "outputs": [],
   "source": []
  }
 ],
 "metadata": {
  "kernelspec": {
   "display_name": "base",
   "language": "python",
   "name": "python3"
  },
  "language_info": {
   "codemirror_mode": {
    "name": "ipython",
    "version": 3
   },
   "file_extension": ".py",
   "mimetype": "text/x-python",
   "name": "python",
   "nbconvert_exporter": "python",
   "pygments_lexer": "ipython3",
   "version": "3.9.12"
  },
  "orig_nbformat": 4,
  "vscode": {
   "interpreter": {
    "hash": "20a9e06a1eee47c4abbed4ec8225ad91d78d9800d202b71b6b0a6e47016c6abd"
   }
  }
 },
 "nbformat": 4,
 "nbformat_minor": 2
}
