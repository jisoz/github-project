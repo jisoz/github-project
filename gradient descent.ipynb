{
 "cells": [
  {
   "cell_type": "code",
   "execution_count": 4,
   "metadata": {},
   "outputs": [
    {
     "data": {
      "text/plain": [
       "(array([2.5       , 1.2       , 0.7       , 0.47058824, 0.34615385]),\n",
       " array([2.5       , 2.4       , 2.1       , 1.88235294, 1.73076923]),\n",
       " 9.30855868160794e-30)"
      ]
     },
     "execution_count": 4,
     "metadata": {},
     "output_type": "execute_result"
    }
   ],
   "source": [
    "import numpy as np\n",
    "def gradientdescent(x,y):\n",
    "    thet0=thet1=0\n",
    "    iter=1000\n",
    "    n=len(x)\n",
    "    lr=0.08\n",
    "    for i in range(iter):\n",
    "        ypred=thet0+thet1*x\n",
    "        cost=1/n *sum([val**2 for val in (y-ypred)])\n",
    "        thet0d= -(2/n)*(y-ypred)\n",
    "        thet1d=-(2/n)*(x*(y-ypred))\n",
    "        thet0=thet0-lr*thet0d\n",
    "        thet1=thet1-lr*thet1d\n",
    "        \n",
    "    return thet0,thet1,cost    \n",
    "x=np.array([1,2,3,4,5])        \n",
    "y=np.array([5,6,7,8,9])  \n",
    "\n",
    "gradientdescent(x,y)\n"
   ]
  },
  {
   "cell_type": "code",
   "execution_count": null,
   "metadata": {},
   "outputs": [],
   "source": []
  }
 ],
 "metadata": {
  "kernelspec": {
   "display_name": "base",
   "language": "python",
   "name": "python3"
  },
  "language_info": {
   "codemirror_mode": {
    "name": "ipython",
    "version": 3
   },
   "file_extension": ".py",
   "mimetype": "text/x-python",
   "name": "python",
   "nbconvert_exporter": "python",
   "pygments_lexer": "ipython3",
   "version": "3.9.12 (main, Apr  4 2022, 05:22:27) [MSC v.1916 64 bit (AMD64)]"
  },
  "orig_nbformat": 4,
  "vscode": {
   "interpreter": {
    "hash": "20a9e06a1eee47c4abbed4ec8225ad91d78d9800d202b71b6b0a6e47016c6abd"
   }
  }
 },
 "nbformat": 4,
 "nbformat_minor": 2
}
